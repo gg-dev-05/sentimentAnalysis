{
 "cells": [
  {
   "cell_type": "code",
   "execution_count": null,
   "metadata": {},
   "outputs": [],
   "source": [
    "import numpy as np # linear algebra\n",
    "import pandas as pd # data processing/manipulation\n",
    "import matplotlib.pyplot as plt\n",
    "\n",
    "from sklearn.feature_extraction.text import CountVectorizer\n",
    "from sklearn.linear_model import LinearRegression\n",
    "\n",
    "from collections import Counter\n",
    "import nltk\n",
    "import string\n",
    "from nltk.corpus import stopwords"
   ]
  },
  {
   "cell_type": "code",
   "execution_count": null,
   "metadata": {
    "scrolled": true
   },
   "outputs": [],
   "source": [
    "#Importing Data\n",
    "data = pd.read_csv('1429_1.csv')\n",
    "data.head()"
   ]
  },
  {
   "cell_type": "code",
   "execution_count": null,
   "metadata": {},
   "outputs": [],
   "source": [
    "#Though the four columns below contains very less missing values, it would do no harm in removing NA values.\n",
    "data1 = data[['reviews.rating' , 'reviews.text' , 'reviews.title' , 'reviews.username']]\n",
    "final = data1.dropna()\n",
    "final.head()"
   ]
  },
  {
   "cell_type": "code",
   "execution_count": null,
   "metadata": {},
   "outputs": [],
   "source": [
    "#No NA values\n",
    "fact =  final[final[\"reviews.text\"].isnull()]\n",
    "fact.head()"
   ]
  },
  {
   "cell_type": "code",
   "execution_count": null,
   "metadata": {},
   "outputs": [],
   "source": [
    "rating = final[(final['reviews.rating'] == 1) | (final['reviews.rating'] == 5)]\n",
    "rating.shape"
   ]
  },
  {
   "cell_type": "code",
   "execution_count": 28,
   "metadata": {},
   "outputs": [
    {
     "data": {
      "text/plain": [
       "5.0    23768\n",
       "1.0      410\n",
       "Name: reviews.rating, dtype: int64"
      ]
     },
     "execution_count": 28,
     "metadata": {},
     "output_type": "execute_result"
    }
   ],
   "source": [
    "y = rating['reviews.rating']\n",
    "x = rating['reviews.text'].reset_index()\n",
    "\n",
    "y.value_counts()"
   ]
  },
  {
   "cell_type": "code",
   "execution_count": 19,
   "metadata": {},
   "outputs": [
    {
     "name": "stdout",
     "output_type": "stream",
     "text": [
      "0        This product so far has not disappointed. My c...\n",
      "1        great for beginner or experienced person. Boug...\n",
      "2        Inexpensive tablet for him to use and learn on...\n",
      "3        I bought this for my grand daughter when she c...\n",
      "4        This amazon fire 8 inch tablet is the perfect ...\n",
      "                               ...                        \n",
      "24173    This is exactly like any other usb power charg...\n",
      "24174    Amazon should include this charger with the Ki...\n",
      "24175    Love my Kindle Fire but I am really disappoint...\n",
      "24176    I was surprised to find it did not come with a...\n",
      "24177    to spite the fact that i have nothing but good...\n",
      "Name: reviews.text, Length: 24178, dtype: object\n"
     ]
    }
   ],
   "source": [
    "X = x['reviews.text']\n",
    "print(X)"
   ]
  },
  {
   "cell_type": "code",
   "execution_count": null,
   "metadata": {},
   "outputs": [],
   "source": [
    "import string\n",
    "from nltk.corpus import stopwords\n",
    "# stop=set(stopwords.words('english'))\n",
    "def text_process(text):\n",
    "  \n",
    "    nopunc = [char for char in text if char not in string.punctuation]\n",
    "    nopunc = ''.join(nopunc)\n",
    "    \n",
    "    return [word for word in nopunc.split() if word.lower() not in stopwords.words('english')]"
   ]
  },
  {
   "cell_type": "code",
   "execution_count": null,
   "metadata": {},
   "outputs": [],
   "source": [
    "import nltk\n",
    "nltk.download('stopwords') # To downlaod 'stopwords' in your notebook"
   ]
  },
  {
   "cell_type": "markdown",
   "metadata": {},
   "source": [
    "Using CountVectorizer and vectorizer to return a vector array."
   ]
  },
  {
   "cell_type": "code",
   "execution_count": null,
   "metadata": {},
   "outputs": [],
   "source": [
    "from sklearn.feature_extraction.text import CountVectorizer\n",
    "\n",
    "transformer = CountVectorizer(analyzer=text_process).fit(X)"
   ]
  },
  {
   "cell_type": "code",
   "execution_count": null,
   "metadata": {},
   "outputs": [],
   "source": [
    "review = X[24]\n",
    "bow = transformer.transform([review])\n",
    "bow"
   ]
  },
  {
   "cell_type": "code",
   "execution_count": null,
   "metadata": {},
   "outputs": [],
   "source": [
    "X = transformer.transform(X)"
   ]
  },
  {
   "cell_type": "code",
   "execution_count": null,
   "metadata": {},
   "outputs": [],
   "source": [
    "#Lets start training the model\n",
    "from sklearn.model_selection import train_test_split\n",
    "#using 30% of the data for testing, this will be revised once we do not get the desired accuracy\n",
    "X_train, X_test, y_train, y_test = train_test_split(X, y, test_size=0.3, random_state=101)"
   ]
  },
  {
   "cell_type": "code",
   "execution_count": null,
   "metadata": {},
   "outputs": [],
   "source": [
    "from sklearn.svm import SVC\n",
    "clf = SVC()\n",
    "clf.fit(X_train, y_train) \n",
    "clf.score(X_test, y_test)\n",
    "\n",
    "# svm = clf.predict(X_test)"
   ]
  },
  {
   "cell_type": "code",
   "execution_count": 18,
   "metadata": {},
   "outputs": [
    {
     "name": "stdout",
     "output_type": "stream",
     "text": [
      "[5.]\n"
     ]
    },
    {
     "name": "stderr",
     "output_type": "stream",
     "text": [
      "/tmp/ipykernel_11747/527416801.py:2: FutureWarning: The frame.append method is deprecated and will be removed from pandas in a future version. Use pandas.concat instead.\n",
      "  test = test.append({'string': ' '.join(['please don\\'t buye this it sucks'])}, ignore_index=True)\n"
     ]
    }
   ],
   "source": [
    "test = pd.DataFrame(columns=['string'])\n",
    "test = test.append({'string': ' '.join(['please don\\'t buye this it sucks'])}, ignore_index=True)\n",
    "example = transformer.transform(test['string'])\n",
    "print(clf.predict(example))"
   ]
  }
 ],
 "metadata": {
  "kernelspec": {
   "display_name": "Python 3",
   "language": "python",
   "name": "python3"
  },
  "language_info": {
   "codemirror_mode": {
    "name": "ipython",
    "version": 3
   },
   "file_extension": ".py",
   "mimetype": "text/x-python",
   "name": "python",
   "nbconvert_exporter": "python",
   "pygments_lexer": "ipython3",
   "version": "3.8.10"
  }
 },
 "nbformat": 4,
 "nbformat_minor": 4
}
