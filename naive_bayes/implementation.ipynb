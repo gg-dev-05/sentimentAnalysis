{
 "cells": [
  {
   "cell_type": "code",
   "execution_count": 3,
   "metadata": {},
   "outputs": [],
   "source": [
    "import numpy as np # linear algebra\n",
    "import pandas as pd # data processing, CSV file I/O (e.g. pd.read_csv)\n",
    "import seaborn as sns\n",
    "import matplotlib.pyplot as plt\n",
    "\n",
    "from sklearn.feature_extraction.text import CountVectorizer\n",
    "from sklearn.linear_model import LinearRegression\n",
    "from keras.preprocessing.sequence import pad_sequences\n",
    "\n",
    "\n",
    "import seaborn as sns\n",
    "import string\n",
    "from nltk.corpus import stopwords\n",
    "\n",
    "from keras.preprocessing.text import Tokenizer\n",
    "from keras.preprocessing.sequence import pad_sequences"
   ]
  },
  {
   "cell_type": "code",
   "execution_count": 4,
   "metadata": {},
   "outputs": [
    {
     "name": "stderr",
     "output_type": "stream",
     "text": [
      "/tmp/ipykernel_11562/347789765.py:1: DtypeWarning: Columns (1,10) have mixed types. Specify dtype option on import or set low_memory=False.\n",
      "  data=pd.read_csv('../input/1429_1.csv')\n"
     ]
    },
    {
     "data": {
      "text/plain": [
       "(24178, 4)"
      ]
     },
     "execution_count": 4,
     "metadata": {},
     "output_type": "execute_result"
    }
   ],
   "source": [
    "\n",
    "data=pd.read_csv('../input/1429_1.csv')\n",
    "data.head()\n",
    "\n",
    "\n",
    "review=pd.DataFrame(data.groupby('reviews.rating').size().sort_values(ascending=False).rename('No of Users').reset_index())\n",
    "review.head()\n",
    "\n",
    "permanent = data[['reviews.rating' , 'reviews.text' , 'reviews.title' , 'reviews.username']]\n",
    "mpermanent=permanent.dropna()\n",
    "mpermanent.head()\n",
    "\n",
    "check =  mpermanent[mpermanent[\"reviews.text\"].isnull()]\n",
    "check.head()\n",
    "\n",
    "actualrating = mpermanent[(mpermanent['reviews.rating'] == 1) | (mpermanent['reviews.rating'] == 5)]\n",
    "actualrating.shape\n"
   ]
  },
  {
   "cell_type": "code",
   "execution_count": 5,
   "metadata": {},
   "outputs": [
    {
     "name": "stdout",
     "output_type": "stream",
     "text": [
      "0        This product so far has not disappointed. My c...\n",
      "1        great for beginner or experienced person. Boug...\n",
      "2        Inexpensive tablet for him to use and learn on...\n",
      "3        I bought this for my grand daughter when she c...\n",
      "4        This amazon fire 8 inch tablet is the perfect ...\n",
      "                               ...                        \n",
      "24173    This is exactly like any other usb power charg...\n",
      "24174    Amazon should include this charger with the Ki...\n",
      "24175    Love my Kindle Fire but I am really disappoint...\n",
      "24176    I was surprised to find it did not come with a...\n",
      "24177    to spite the fact that i have nothing but good...\n",
      "Name: reviews.text, Length: 24178, dtype: object\n",
      "24178\n"
     ]
    }
   ],
   "source": [
    "y = actualrating['reviews.rating']\n",
    "x = actualrating['reviews.text'].reset_index()\n",
    "\n",
    "len(y)\n",
    "\n",
    "X = x['reviews.text']\n",
    "print(X)\n",
    "\n",
    "print(len(X))\n"
   ]
  },
  {
   "cell_type": "code",
   "execution_count": 6,
   "metadata": {},
   "outputs": [
    {
     "name": "stdout",
     "output_type": "stream",
     "text": [
      "['This', 'product', 'so', 'far', 'has', 'not', 'disappointed.', 'My', 'children', 'love', 'to', 'use', 'it', 'and', 'I', 'like', 'the', 'ability', 'to', 'monitor', 'control', 'what', 'content', 'they', 'see', 'with', 'ease.']\n",
      "['Hey', 'sample', 'review', 'happens', 'contain', 'punctuations']\n"
     ]
    }
   ],
   "source": [
    "\n",
    "import string\n",
    "from nltk.corpus import stopwords\n",
    "def text_process(text):\n",
    "    '''\n",
    "    Takes in a string of text, then performs the following:\n",
    "    1. Remove all punctuation\n",
    "    2. Remove all stopwords\n",
    "    3. Return the cleaned text as a list of words\n",
    "    '''\n",
    "    nopunc = [char for char in text if char not in string.punctuation]\n",
    "    nopunc = ''.join(nopunc)\n",
    "    \n",
    "    return [word for word in nopunc.split() if word.lower() not in stopwords.words('english')]\n",
    "\n",
    "tokens = X[0].split()\n",
    "print(tokens)\n",
    "\n",
    "sample_text = \"Hey there! This is a sample review, which happens to contain punctuations.\"\n",
    "print(text_process(sample_text))\n"
   ]
  },
  {
   "cell_type": "code",
   "execution_count": 7,
   "metadata": {},
   "outputs": [],
   "source": [
    "\n",
    "from sklearn.feature_extraction.text import CountVectorizer\n",
    "# next we need to vectorize our input variable (X)\n",
    "#we use the count vectoriser function and the analyser we use is the above lines of code\n",
    "# this should return a vector array\n",
    "bow_transformer = CountVectorizer(analyzer=text_process).fit(X)\n",
    "\n",
    "# %%\n",
    "len(bow_transformer.vocabulary_)\n",
    "\n",
    "# %%\n",
    "review_24 = X[24]\n"
   ]
  },
  {
   "cell_type": "code",
   "execution_count": 8,
   "metadata": {},
   "outputs": [
    {
     "name": "stdout",
     "output_type": "stream",
     "text": [
      "  (0, 1816)\t1\n",
      "  (0, 2476)\t1\n",
      "  (0, 5664)\t1\n",
      "  (0, 7835)\t1\n",
      "  (0, 10671)\t1\n",
      "  (0, 10778)\t1\n",
      "  (0, 11499)\t1\n",
      "  (0, 11691)\t1\n",
      "  (0, 11940)\t1\n",
      "  (0, 14868)\t1\n",
      "  (0, 15195)\t1\n",
      "  (0, 15507)\t1\n",
      "  (0, 16158)\t1\n",
      "  (0, 16540)\t1\n"
     ]
    }
   ],
   "source": [
    "\n",
    "# %%\n",
    "bow_25 = bow_transformer.transform([review_24])\n",
    "bow_25\n",
    "\n",
    "# %%\n",
    "print(bow_25)\n",
    "\n",
    "# %%\n",
    "X = bow_transformer.transform(X)"
   ]
  },
  {
   "cell_type": "code",
   "execution_count": 22,
   "metadata": {},
   "outputs": [
    {
     "name": "stderr",
     "output_type": "stream",
     "text": [
      "/home/ggdv05/projects/productAnalysis/env/lib/python3.8/site-packages/sklearn/naive_bayes.py:555: UserWarning: alpha too small will result in numeric errors, setting alpha = 1.0e-10\n",
      "  warnings.warn(\n"
     ]
    }
   ],
   "source": [
    "# %%\n",
    "#Lets start training the model\n",
    "from sklearn.model_selection import train_test_split\n",
    "#using 30% of the data for testing, this will be revised once we do not get the desired accuracy\n",
    "X_train, X_test, y_train, y_test = train_test_split(X, y, test_size=0.3, random_state=101)\n",
    "\n",
    "# %% [markdown]\n",
    "# **Naive Bayes Classifier**\n",
    "\n",
    "# %%\n",
    "from sklearn.naive_bayes import MultinomialNB\n",
    "accuracy_arr = []\n",
    "alpha_arr = []\n",
    "for i in range(0,100):\n",
    "  alpha = i*0.1\n",
    "  nb = MultinomialNB(alpha=alpha)\n",
    "  nb.fit(X_train, y_train)\n",
    "\n",
    "  preds = nb.predict(X_test)\n",
    "\n",
    "  accuracy_arr.append(nb.score(X_test, y_test))\n",
    "  alpha_arr.append(alpha)"
   ]
  },
  {
   "cell_type": "code",
   "execution_count": 25,
   "metadata": {},
   "outputs": [
    {
     "data": {
      "image/png": "[encoded data removed]",
      "text/plain": [
       "<Figure size 432x288 with 1 Axes>"
      ]
     },
     "metadata": {
      "needs_background": "light"
     },
     "output_type": "display_data"
    }
   ],
   "source": [
    "import matplotlib.pyplot as plt\n",
    "plt.plot(alpha_arr,accuracy_arr)\n",
    "plt.xlabel('Alpha')\n",
    "plt.ylabel('Accuracy')\n",
    "plt.show()"
   ]
  }
 ],
 "metadata": {
  "interpreter": {
   "hash": "d9ce083b45dced069175a96ecce6eaa51237d37e7abca932cce279b783bd9088"
  },
  "kernelspec": {
   "display_name": "Python 3.8.10 ('env': venv)",
   "language": "python",
   "name": "python3"
  },
  "language_info": {
   "codemirror_mode": {
    "name": "ipython",
    "version": 3
   },
   "file_extension": ".py",
   "mimetype": "text/x-python",
   "name": "python",
   "nbconvert_exporter": "python",
   "pygments_lexer": "ipython3",
   "version": "3.8.10"
  },
  "orig_nbformat": 4
 },
 "nbformat": 4,
 "nbformat_minor": 2
}
